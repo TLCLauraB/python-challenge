{
 "cells": [
  {
   "cell_type": "code",
   "execution_count": 1,
   "id": "67ee599b",
   "metadata": {},
   "outputs": [],
   "source": [
    "# Dependencies\n",
    "import os\n",
    "import pandas as pd\n",
    "import csv"
   ]
  },
  {
   "cell_type": "code",
   "execution_count": 2,
   "id": "af81522b",
   "metadata": {},
   "outputs": [
    {
     "name": "stdout",
     "output_type": "stream",
     "text": [
      "This is the Header for the CSV: ['Ballot ID', 'County', 'Candidate']\n"
     ]
    }
   ],
   "source": [
    "# Pathway of the CSV\n",
    "election_data_path = os.path.join(\"Resources\", \"election_data.csv\")\n",
    "\n",
    "# Open the CSV\n",
    "with open(election_data_path, encoding='UTF-8') as electioncsvfile:\n",
    "    csv_reader = csv.reader(electioncsvfile, delimiter=\",\")\n",
    "    \n",
    "    # Read the Header Row first\n",
    "    csv_header = next(csv_reader)\n",
    "    \n",
    "    # Test for success\n",
    "    print(f\"This is the Header for the CSV: {csv_header}\")   "
   ]
  },
  {
   "cell_type": "code",
   "execution_count": 3,
   "id": "814ce64c",
   "metadata": {
    "scrolled": true
   },
   "outputs": [
    {
     "name": "stdout",
     "output_type": "stream",
     "text": [
      "        Ballot ID     County                Candidate\n",
      "0         1323913  Jefferson  Charles Casper Stockham\n",
      "1         1005842  Jefferson  Charles Casper Stockham\n",
      "2         1880345  Jefferson  Charles Casper Stockham\n",
      "3         1600337  Jefferson  Charles Casper Stockham\n",
      "4         1835994  Jefferson  Charles Casper Stockham\n",
      "...           ...        ...                      ...\n",
      "369706    4714953   Arapahoe     Raymon Anthony Doane\n",
      "369707    4497542   Arapahoe     Raymon Anthony Doane\n",
      "369708    4085849   Arapahoe     Raymon Anthony Doane\n",
      "369709    4592018   Arapahoe     Raymon Anthony Doane\n",
      "369710    4660518   Arapahoe     Raymon Anthony Doane\n",
      "\n",
      "[369711 rows x 3 columns]\n"
     ]
    }
   ],
   "source": [
    "# Load CSV into Pandas data frame\n",
    "df = pd.read_csv(election_data_path)\n",
    "\n",
    "# Test for success\n",
    "print(df)"
   ]
  },
  {
   "cell_type": "code",
   "execution_count": 4,
   "id": "181a0c33",
   "metadata": {},
   "outputs": [
    {
     "name": "stdout",
     "output_type": "stream",
     "text": [
      "Total Votes in the dataset: 369711\n"
     ]
    }
   ],
   "source": [
    "# Calculate the total number of votes in the dataset\n",
    "total_votes = len(df)\n",
    "\n",
    "# Test for sucess\n",
    "print(f\"Total Votes in the dataset: {total_votes}\")"
   ]
  },
  {
   "cell_type": "code",
   "execution_count": 5,
   "id": "0315dfaa",
   "metadata": {
    "scrolled": true
   },
   "outputs": [
    {
     "name": "stdout",
     "output_type": "stream",
     "text": [
      "These are all the Candidates listed: ['Charles Casper Stockham' 'Diana DeGette' 'Raymon Anthony Doane']\n"
     ]
    }
   ],
   "source": [
    "# Calculate the complete list of Candidates in the dataset\n",
    "total_candidates = df[\"Candidate\"].unique()\n",
    "\n",
    "# Test for success\n",
    "print(f\"These are all the Candidates listed: {total_candidates}\")"
   ]
  },
  {
   "cell_type": "code",
   "execution_count": 8,
   "id": "27c88f3f",
   "metadata": {},
   "outputs": [
    {
     "name": "stdout",
     "output_type": "stream",
     "text": [
      "The percentage of votes for each Candidate\n",
      "Charles Casper Stockham    23.049%\n",
      "Diana DeGette              73.812%\n",
      "Raymon Anthony Doane        3.139%\n",
      "Name: Candidate, dtype: object\n"
     ]
    }
   ],
   "source": [
    "# Calculate the percentage of votes each candidate won\n",
    "pcent_votes = (df.groupby(\"Candidate\")[\"Candidate\"].count() / df[\"Candidate\"].count() * 100).round(3)\n",
    "\n",
    "# Format values as percentages\n",
    "pcent_votes = pcent_votes.map(\"{0:.3f}%\".format)\n",
    "\n",
    "# Test for success\n",
    "print(f\"The percentage of votes for each {pcent_votes}\")"
   ]
  },
  {
   "cell_type": "code",
   "execution_count": 14,
   "id": "a24bdf54",
   "metadata": {
    "scrolled": false
   },
   "outputs": [
    {
     "name": "stdout",
     "output_type": "stream",
     "text": [
      "The total number of votes for each candidate: Diana DeGette              272892\n",
      "Charles Casper Stockham     85213\n",
      "Raymon Anthony Doane        11606\n",
      "Name: Candidate, dtype: int64\n"
     ]
    }
   ],
   "source": [
    "# Calculate the total number of votes each candidate won\n",
    "num_votes_per_candidate = df[\"Candidate\"].value_counts()\n",
    "\n",
    "# Test for success\n",
    "print(f\"The total number of votes for each candidate: {num_votes_per_candidate}\")"
   ]
  },
  {
   "cell_type": "code",
   "execution_count": 30,
   "id": "a83d7db4",
   "metadata": {
    "scrolled": true
   },
   "outputs": [
    {
     "name": "stdout",
     "output_type": "stream",
     "text": [
      "The results of the election are:\n",
      "Charles Casper Stockham: 23.049% (85213)\n",
      "Diana DeGette: 73.812% (272892)\n",
      "Raymon Anthony Doane: 3.139% (11606)\n"
     ]
    }
   ],
   "source": [
    "# Combining individual votes and percents into one line/output\n",
    "whole_package_per_candidate = []\n",
    "for candidate, pcent in pcent_votes.items():\n",
    "    num_votes = num_votes_per_candidate[candidate]\n",
    "    line_total = f\"{candidate}: {pcent} ({num_votes})\"\n",
    "    whole_package_per_candidate.append(line_total)\n",
    "line_totals_str = \"\\n\".join(whole_package_per_candidate)\n",
    "\n",
    "# Test for success\n",
    "print(f\"The results of the election are:\\n{line_totals_str}\")"
   ]
  },
  {
   "cell_type": "code",
   "execution_count": 11,
   "id": "c3a8d84f",
   "metadata": {},
   "outputs": [
    {
     "name": "stdout",
     "output_type": "stream",
     "text": [
      "The winner of the election based on popular vote is: Diana DeGette\n"
     ]
    }
   ],
   "source": [
    "# Calculate the total number of votes each candidate won\n",
    "total_votes_indi = df[\"Candidate\"].value_counts()\n",
    "\n",
    "# Determine the winner of the election based on popular vote\n",
    "winner = total_votes_indi.idxmax()\n",
    "\n",
    "# Test for success\n",
    "print(f\"The winner of the election based on popular vote is: {winner}\")"
   ]
  },
  {
   "cell_type": "code",
   "execution_count": 36,
   "id": "597eb247",
   "metadata": {},
   "outputs": [
    {
     "name": "stdout",
     "output_type": "stream",
     "text": [
      "Election Results\n",
      "----------------------------\n",
      "Total Votes: 369711\n",
      "----------------------------\n",
      "\n",
      "Charles Casper Stockham: 23.049% (85213)\n",
      "Diana DeGette: 73.812% (272892)\n",
      "Raymon Anthony Doane: 3.139% (11606)\n",
      "----------------------------\n",
      "Winner: Diana DeGette\n"
     ]
    }
   ],
   "source": [
    "# Bringing it all together\n",
    "print(\"Election Results\")\n",
    "print(\"----------------------------\")\n",
    "print(f\"Total Votes: {total_votes}\")\n",
    "print(\"----------------------------\")\n",
    "print(f\"\\n{line_totals_str}\")\n",
    "print(\"----------------------------\")\n",
    "print(f\"Winner: {winner}\")"
   ]
  },
  {
   "cell_type": "code",
   "execution_count": 39,
   "id": "44296371",
   "metadata": {},
   "outputs": [],
   "source": [
    "# Bringing it all together + printing to a text file\n",
    "with open('Analysis/election_results.txt', 'w') as f:\n",
    "    print(\"Election Results\", file=f)\n",
    "    print(\"----------------------------\", file=f)\n",
    "    print(f\"Total Votes: {total_votes}\", file=f)\n",
    "    print(\"----------------------------\", file=f)\n",
    "    print(f\"\\n{line_totals_str}\", file=f)\n",
    "    print(\"----------------------------\", file=f)\n",
    "    print(f\"Winner: {winner}\", file=f)"
   ]
  },
  {
   "cell_type": "code",
   "execution_count": null,
   "id": "a8e62150",
   "metadata": {},
   "outputs": [],
   "source": []
  }
 ],
 "metadata": {
  "kernelspec": {
   "display_name": "Python 3 (ipykernel)",
   "language": "python",
   "name": "python3"
  },
  "language_info": {
   "codemirror_mode": {
    "name": "ipython",
    "version": 3
   },
   "file_extension": ".py",
   "mimetype": "text/x-python",
   "name": "python",
   "nbconvert_exporter": "python",
   "pygments_lexer": "ipython3",
   "version": "3.10.12"
  }
 },
 "nbformat": 4,
 "nbformat_minor": 5
}
