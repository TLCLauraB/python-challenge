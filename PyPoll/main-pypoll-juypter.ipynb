{
 "cells": [
  {
   "cell_type": "code",
   "execution_count": 1,
   "id": "67ee599b",
   "metadata": {},
   "outputs": [],
   "source": [
    "# Dependencies\n",
    "import os\n",
    "import pandas as pd\n",
    "import csv"
   ]
  },
  {
   "cell_type": "code",
   "execution_count": 2,
   "id": "af81522b",
   "metadata": {},
   "outputs": [
    {
     "name": "stdout",
     "output_type": "stream",
     "text": [
      "This is the Header for the CSV: ['Ballot ID', 'County', 'Candidate']\n"
     ]
    }
   ],
   "source": [
    "# Pathway of the CSV\n",
    "election_data_path = os.path.join(\"Resources\", \"election_data.csv\")\n",
    "\n",
    "# Open the CSV\n",
    "with open(election_data_path, encoding='UTF-8') as electioncsvfile:\n",
    "    csv_reader = csv.reader(electioncsvfile, delimiter=\",\")\n",
    "    \n",
    "    # Read the Header Row first\n",
    "    csv_header = next(csv_reader)\n",
    "    \n",
    "    # Test for success\n",
    "    print(f\"This is the Header for the CSV: {csv_header}\")   "
   ]
  },
  {
   "cell_type": "code",
   "execution_count": null,
   "id": "814ce64c",
   "metadata": {},
   "outputs": [],
   "source": []
  }
 ],
 "metadata": {
  "kernelspec": {
   "display_name": "Python 3 (ipykernel)",
   "language": "python",
   "name": "python3"
  },
  "language_info": {
   "codemirror_mode": {
    "name": "ipython",
    "version": 3
   },
   "file_extension": ".py",
   "mimetype": "text/x-python",
   "name": "python",
   "nbconvert_exporter": "python",
   "pygments_lexer": "ipython3",
   "version": "3.10.12"
  }
 },
 "nbformat": 4,
 "nbformat_minor": 5
}
