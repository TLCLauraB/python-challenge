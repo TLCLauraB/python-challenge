{
 "cells": [
  {
   "cell_type": "code",
   "execution_count": 1,
   "id": "67ee599b",
   "metadata": {},
   "outputs": [],
   "source": [
    "# Dependencies\n",
    "import os\n",
    "import pandas as pd\n",
    "import csv"
   ]
  },
  {
   "cell_type": "code",
   "execution_count": 2,
   "id": "af81522b",
   "metadata": {},
   "outputs": [
    {
     "name": "stdout",
     "output_type": "stream",
     "text": [
      "This is the Header for the CSV: ['Ballot ID', 'County', 'Candidate']\n"
     ]
    }
   ],
   "source": [
    "# Pathway of the CSV\n",
    "election_data_path = os.path.join(\"Resources\", \"election_data.csv\")\n",
    "\n",
    "# Open the CSV\n",
    "with open(election_data_path, encoding='UTF-8') as electioncsvfile:\n",
    "    csv_reader = csv.reader(electioncsvfile, delimiter=\",\")\n",
    "    \n",
    "    # Read the Header Row first\n",
    "    csv_header = next(csv_reader)\n",
    "    \n",
    "    # Test for success\n",
    "    print(f\"This is the Header for the CSV: {csv_header}\")   "
   ]
  },
  {
   "cell_type": "code",
   "execution_count": 3,
   "id": "814ce64c",
   "metadata": {
    "scrolled": true
   },
   "outputs": [
    {
     "name": "stdout",
     "output_type": "stream",
     "text": [
      "        Ballot ID     County                Candidate\n",
      "0         1323913  Jefferson  Charles Casper Stockham\n",
      "1         1005842  Jefferson  Charles Casper Stockham\n",
      "2         1880345  Jefferson  Charles Casper Stockham\n",
      "3         1600337  Jefferson  Charles Casper Stockham\n",
      "4         1835994  Jefferson  Charles Casper Stockham\n",
      "...           ...        ...                      ...\n",
      "369706    4714953   Arapahoe     Raymon Anthony Doane\n",
      "369707    4497542   Arapahoe     Raymon Anthony Doane\n",
      "369708    4085849   Arapahoe     Raymon Anthony Doane\n",
      "369709    4592018   Arapahoe     Raymon Anthony Doane\n",
      "369710    4660518   Arapahoe     Raymon Anthony Doane\n",
      "\n",
      "[369711 rows x 3 columns]\n"
     ]
    }
   ],
   "source": [
    "# Load CSV into Pandas data frame\n",
    "df = pd.read_csv(election_data_path)\n",
    "\n",
    "# Test for success\n",
    "print(df)"
   ]
  },
  {
   "cell_type": "code",
   "execution_count": 4,
   "id": "90a0285b",
   "metadata": {},
   "outputs": [
    {
     "name": "stdout",
     "output_type": "stream",
     "text": [
      "Total Votes in the dataset: 369711\n"
     ]
    }
   ],
   "source": [
    "# Calculate the total number of votes in the dataset\n",
    "total_votes = len(df)\n",
    "\n",
    "# Test for sucess\n",
    "print(f\"Total Votes in the dataset: {total_votes}\")"
   ]
  },
  {
   "cell_type": "code",
   "execution_count": 5,
   "id": "4fcd468a",
   "metadata": {
    "scrolled": true
   },
   "outputs": [
    {
     "name": "stdout",
     "output_type": "stream",
     "text": [
      "These are all the Candidates listed: ['Charles Casper Stockham' 'Diana DeGette' 'Raymon Anthony Doane']\n"
     ]
    }
   ],
   "source": [
    "# Calculate the complete list of Candidates in the dataset\n",
    "total_candidates = df[\"Candidate\"].unique()\n",
    "\n",
    "# Test for success\n",
    "print(f\"These are all the Candidates listed: {total_candidates}\")"
   ]
  },
  {
   "cell_type": "code",
   "execution_count": 8,
   "id": "721c7576",
   "metadata": {},
   "outputs": [
    {
     "name": "stdout",
     "output_type": "stream",
     "text": [
      "The percentage of votes for each Candidate\n",
      "Charles Casper Stockham    23.049%\n",
      "Diana DeGette              73.812%\n",
      "Raymon Anthony Doane        3.139%\n",
      "Name: Candidate, dtype: object\n"
     ]
    }
   ],
   "source": [
    "# Calculate the percentage of votes each candidate won\n",
    "pcent_votes = (df.groupby(\"Candidate\")[\"Candidate\"].count() / df[\"Candidate\"].count() * 100).round(3)\n",
    "\n",
    "# Format values as percentages\n",
    "pcent_votes = pcent_votes.map(\"{0:.3f}%\".format)\n",
    "\n",
    "# Test for success\n",
    "print(f\"The percentage of votes for each {pcent_votes}\")"
   ]
  },
  {
   "cell_type": "code",
   "execution_count": 9,
   "id": "6b76ca6c",
   "metadata": {},
   "outputs": [
    {
     "name": "stdout",
     "output_type": "stream",
     "text": [
      "The total number of votes for each candidate: Diana DeGette              272892\n",
      "Charles Casper Stockham     85213\n",
      "Raymon Anthony Doane        11606\n",
      "Name: Candidate, dtype: int64\n"
     ]
    }
   ],
   "source": [
    "# Calculate the total number of votes each candidate won\n",
    "num_votes_per_candidate = df[\"Candidate\"].value_counts()\n",
    "\n",
    "# Test for success\n",
    "print(f\"The total number of votes for each candidate: {num_votes_per_candidate}\")"
   ]
  },
  {
   "cell_type": "code",
   "execution_count": null,
   "id": "4c2a606f",
   "metadata": {},
   "outputs": [],
   "source": []
  }
 ],
 "metadata": {
  "kernelspec": {
   "display_name": "Python 3 (ipykernel)",
   "language": "python",
   "name": "python3"
  },
  "language_info": {
   "codemirror_mode": {
    "name": "ipython",
    "version": 3
   },
   "file_extension": ".py",
   "mimetype": "text/x-python",
   "name": "python",
   "nbconvert_exporter": "python",
   "pygments_lexer": "ipython3",
   "version": "3.10.12"
  }
 },
 "nbformat": 4,
 "nbformat_minor": 5
}
