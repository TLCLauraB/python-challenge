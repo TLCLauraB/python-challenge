{
 "cells": [
  {
   "cell_type": "code",
   "execution_count": 1,
   "id": "8f1bc697",
   "metadata": {},
   "outputs": [],
   "source": [
    "# Dependencies\n",
    "import os\n",
    "import pandas as pd\n",
    "import csv"
   ]
  },
  {
   "cell_type": "code",
   "execution_count": 2,
   "id": "7f69288b",
   "metadata": {
    "scrolled": false
   },
   "outputs": [
    {
     "name": "stdout",
     "output_type": "stream",
     "text": [
      "This is the Header for the CSV: ['Date', 'Profit/Losses']\n"
     ]
    }
   ],
   "source": [
    "# Pathway of the csv\n",
    "budget_data_path = os.path.join(\"Resources\", \"budget_data.csv\")\n",
    "\n",
    "# Open the CSV\n",
    "with open(budget_data_path, encoding='UTF-8') as budgetcsvfile:\n",
    "    csv_reader = csv.reader(budgetcsvfile, delimiter=\",\")\n",
    "\n",
    "    # Read the header row first\n",
    "    csv_header = next(csv_reader)\n",
    "    \n",
    "    # Test for success\n",
    "    print(f\"This is the Header for the CSV: {csv_header}\")   \n",
    "    "
   ]
  },
  {
   "cell_type": "code",
   "execution_count": 3,
   "id": "afe8b477",
   "metadata": {
    "scrolled": false
   },
   "outputs": [
    {
     "name": "stdout",
     "output_type": "stream",
     "text": [
      "      Date  Profit/Losses\n",
      "0   Jan-10        1088983\n",
      "1   Feb-10        -354534\n",
      "2   Mar-10         276622\n",
      "3   Apr-10        -728133\n",
      "4   May-10         852993\n",
      "..     ...            ...\n",
      "81  Oct-16        -729004\n",
      "82  Nov-16        -112209\n",
      "83  Dec-16         516313\n",
      "84  Jan-17         607208\n",
      "85  Feb-17         382539\n",
      "\n",
      "[86 rows x 2 columns]\n"
     ]
    }
   ],
   "source": [
    "# Load CSV into Pandas data frame\n",
    "df = pd.read_csv(budget_data_path)\n",
    "\n",
    "# Test for success\n",
    "print(df)"
   ]
  },
  {
   "cell_type": "code",
   "execution_count": 4,
   "id": "6971f73e",
   "metadata": {},
   "outputs": [
    {
     "name": "stdout",
     "output_type": "stream",
     "text": [
      "Total Months in the dataset: 86\n"
     ]
    }
   ],
   "source": [
    "# Calculate the total number months in the dataset\n",
    "total_months = len(df)\n",
    "\n",
    "# Test for sucess\n",
    "print(f\"Total Months in the dataset: {total_months}\")"
   ]
  },
  {
   "cell_type": "code",
   "execution_count": 5,
   "id": "9b85ca07",
   "metadata": {},
   "outputs": [
    {
     "name": "stdout",
     "output_type": "stream",
     "text": [
      "The net total between the Profits and Losses over 86 months: $22564198\n"
     ]
    }
   ],
   "source": [
    "# Calculate the net total amount of \"Profit/Losses\" over the entire period of the dataset\n",
    "net_total = df[\"Profit/Losses\"].sum()\n",
    "\n",
    "# Test for sucess\n",
    "print(f\"The net total between the Profits and Losses over {total_months} months: ${net_total}\")"
   ]
  },
  {
   "cell_type": "code",
   "execution_count": 6,
   "id": "89cdcddd",
   "metadata": {
    "scrolled": true
   },
   "outputs": [
    {
     "name": "stdout",
     "output_type": "stream",
     "text": [
      "0           NaN\n",
      "1    -1443517.0\n",
      "2      631156.0\n",
      "3    -1004755.0\n",
      "4     1581126.0\n",
      "        ...    \n",
      "81   -1627245.0\n",
      "82     616795.0\n",
      "83     628522.0\n",
      "84      90895.0\n",
      "85    -224669.0\n",
      "Name: Profit/Losses, Length: 86, dtype: float64\n"
     ]
    }
   ],
   "source": [
    "# Calculate the changes in \"Profit/Losses\" over the entire period\n",
    "changes = df[\"Profit/Losses\"].diff()\n",
    "\n",
    "# Test for sucess\n",
    "print(changes)"
   ]
  },
  {
   "cell_type": "code",
   "execution_count": 7,
   "id": "ece003da",
   "metadata": {
    "scrolled": false
   },
   "outputs": [
    {
     "name": "stdout",
     "output_type": "stream",
     "text": [
      "The average fluctation was: $-8311.11\n"
     ]
    }
   ],
   "source": [
    "#Caculate the average of the changes\n",
    "average_change = changes.mean().round(2)\n",
    "\n",
    "# Test for success\n",
    "print(f\"The average fluctation was: ${average_change}\")"
   ]
  },
  {
   "cell_type": "code",
   "execution_count": 8,
   "id": "3fc43fcd",
   "metadata": {},
   "outputs": [
    {
     "name": "stdout",
     "output_type": "stream",
     "text": [
      "Greatest Increase in Profits: Aug-16 ($1862002.0)\n"
     ]
    }
   ],
   "source": [
    "# Calculate the greatest Incresase in Profits (date and amount) over entire period\n",
    "greatest_increase = changes.max()\n",
    "greatest_increase_date = df.loc[changes.idxmax(), \"Date\"]\n",
    "\n",
    "# Test for success\n",
    "print(f\"Greatest Increase in Profits: {greatest_increase_date} (${greatest_increase})\")"
   ]
  },
  {
   "cell_type": "code",
   "execution_count": 9,
   "id": "589fcc6e",
   "metadata": {},
   "outputs": [
    {
     "name": "stdout",
     "output_type": "stream",
     "text": [
      "Greatest Decrease in Profits: Feb-14 ($-1825558.0)\n"
     ]
    }
   ],
   "source": [
    "# Calculate the greatest Decrease in Profits (date and amount) over the entire period\n",
    "greatest_decrease = changes.min()\n",
    "greatest_decrease_date = df.loc[changes.idxmin(), \"Date\"]\n",
    "\n",
    "# Test for success\n",
    "print(f\"Greatest Decrease in Profits: {greatest_decrease_date} (${greatest_decrease})\")"
   ]
  },
  {
   "cell_type": "code",
   "execution_count": 10,
   "id": "f7fb565e",
   "metadata": {},
   "outputs": [
    {
     "name": "stdout",
     "output_type": "stream",
     "text": [
      "Financial Analysis\n",
      "----------------------------\n",
      "Total Months: 86\n",
      "Grand Total: $22564198\n",
      "Average Change: $-8311.11\n",
      "Greatest Increase in Profits: Aug-16 ($1862002.0)\n",
      "Greatest Decrease in Profits: Feb-14 ($-1825558.0)\n"
     ]
    }
   ],
   "source": [
    "# Bringing it all together\n",
    "print(\"Financial Analysis\")\n",
    "print(\"----------------------------\")\n",
    "print(f\"Total Months: {total_months}\")\n",
    "print(f\"Grand Total: ${net_total}\")\n",
    "print(f\"Average Change: ${average_change}\")\n",
    "print(f\"Greatest Increase in Profits: {greatest_increase_date} (${greatest_increase})\")\n",
    "print(f\"Greatest Decrease in Profits: {greatest_decrease_date} (${greatest_decrease})\")"
   ]
  },
  {
   "cell_type": "code",
   "execution_count": 11,
   "id": "bd849596",
   "metadata": {},
   "outputs": [],
   "source": [
    "with open('Analysis/financial_analysis.txt', 'w') as f:\n",
    "    print(\"Financial Analysis\", file=f)\n",
    "    print(\"----------------------------\", file=f)\n",
    "    print(f\"Total Months: {total_months}\", file=f)\n",
    "    print(f\"Grand Total: ${net_total}\", file=f)\n",
    "    print(f\"Average Change: ${average_change}\", file=f)\n",
    "    print(f\"Greatest Increase in Profits: {greatest_increase_date} (${greatest_increase})\", file=f)\n",
    "    print(f\"Greatest Decrease in Profits: {greatest_decrease_date} (${greatest_decrease})\", file=f)    \n"
   ]
  }
 ],
 "metadata": {
  "kernelspec": {
   "display_name": "Python 3 (ipykernel)",
   "language": "python",
   "name": "python3"
  },
  "language_info": {
   "codemirror_mode": {
    "name": "ipython",
    "version": 3
   },
   "file_extension": ".py",
   "mimetype": "text/x-python",
   "name": "python",
   "nbconvert_exporter": "python",
   "pygments_lexer": "ipython3",
   "version": "3.10.12"
  }
 },
 "nbformat": 4,
 "nbformat_minor": 5
}
